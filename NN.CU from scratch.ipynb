{
  "nbformat": 4,
  "nbformat_minor": 0,
  "metadata": {
    "colab": {
      "provenance": [],
      "gpuType": "T4"
    },
    "kernelspec": {
      "name": "python3",
      "display_name": "Python 3"
    },
    "language_info": {
      "name": "python"
    },
    "accelerator": "GPU"
  },
  "cells": [
    {
      "cell_type": "markdown",
      "source": [
        "## Install nvcc jupyter plugin"
      ],
      "metadata": {
        "id": "FK0OgqQ3NCky"
      }
    },
    {
      "cell_type": "code",
      "source": [
        "!pip install git+https://github.com/andreinechaev/nvcc4jupyter.git\n",
        "%load_ext nvcc4jupyter"
      ],
      "metadata": {
        "colab": {
          "base_uri": "https://localhost:8080/"
        },
        "id": "Yog3f5JxFvou",
        "outputId": "d215ebc3-cb90-4fa5-ee9b-bcaff0f28b6d"
      },
      "execution_count": null,
      "outputs": [
        {
          "output_type": "stream",
          "name": "stdout",
          "text": [
            "Collecting git+https://github.com/andreinechaev/nvcc4jupyter.git\n",
            "  Cloning https://github.com/andreinechaev/nvcc4jupyter.git to /tmp/pip-req-build-uznfnaur\n",
            "  Running command git clone --filter=blob:none --quiet https://github.com/andreinechaev/nvcc4jupyter.git /tmp/pip-req-build-uznfnaur\n",
            "  Resolved https://github.com/andreinechaev/nvcc4jupyter.git to commit 801584cceb559adc54e828ebe9b385c5f53fe70f\n",
            "  Installing build dependencies ... \u001b[?25l\u001b[?25hdone\n",
            "  Getting requirements to build wheel ... \u001b[?25l\u001b[?25hdone\n",
            "  Preparing metadata (pyproject.toml) ... \u001b[?25l\u001b[?25hdone\n",
            "Building wheels for collected packages: nvcc4jupyter\n",
            "  Building wheel for nvcc4jupyter (pyproject.toml) ... \u001b[?25l\u001b[?25hdone\n",
            "  Created wheel for nvcc4jupyter: filename=nvcc4jupyter-1.2.1-py3-none-any.whl size=10743 sha256=3a570d3ab74e9051a615aa78d54722c78a69a0c83a1d407fccde14c37a30e96c\n",
            "  Stored in directory: /tmp/pip-ephem-wheel-cache-xv2vezrn/wheels/a8/b9/18/23f8ef71ceb0f63297dd1903aedd067e6243a68ea756d6feea\n",
            "Successfully built nvcc4jupyter\n",
            "Installing collected packages: nvcc4jupyter\n",
            "Successfully installed nvcc4jupyter-1.2.1\n",
            "Detected platform \"Colab\". Running its setup...\n",
            "Source files will be saved in \"/tmp/tmpg2xkn0et\".\n"
          ]
        }
      ]
    },
    {
      "cell_type": "markdown",
      "source": [
        "## numpy version"
      ],
      "metadata": {
        "id": "lGmCn-dpNYIM"
      }
    },
    {
      "cell_type": "code",
      "source": [
        "import numpy\n",
        "\n",
        "def sigmoid(z):\n",
        "    return 1.0/(1.0+numpy.exp(-z))\n",
        "\n",
        "weights = numpy.array([0.80, 0.87, 0.16, 0.96,\n",
        "                       0.89, 0.87, 0.31, 0.08,\n",
        "                       0.09, 0.69, 0.03, 0.42])\n",
        "\n",
        "inputs = numpy.array([0.75,0.98, 0.74, 0.28])\n",
        "biases = numpy.array([0.68, 0.83, 0.01])\n",
        "\n",
        "weights = weights.reshape((3, 4))\n",
        "inputs = inputs.reshape((4, 1))\n",
        "biases = biases.reshape(-1, 1)\n",
        "\n",
        "z = numpy.dot(weights, inputs) + biases\n",
        "\n",
        "activations = sigmoid(z)\n",
        "\n",
        "print(weights)\n",
        "print(\"Z Values: \")\n",
        "print(z)\n",
        "print(\"\\nActivations: \")\n",
        "print(activations)"
      ],
      "metadata": {
        "id": "r3HLR4OmNVe6",
        "colab": {
          "base_uri": "https://localhost:8080/"
        },
        "outputId": "65f85234-c908-4d1c-b9c3-772202c37246"
      },
      "execution_count": null,
      "outputs": [
        {
          "output_type": "stream",
          "name": "stdout",
          "text": [
            "[[0.8  0.87 0.16 0.96]\n",
            " [0.89 0.87 0.31 0.08]\n",
            " [0.09 0.69 0.03 0.42]]\n",
            "Z Values: \n",
            "[[2.5198]\n",
            " [2.6019]\n",
            " [0.8935]]\n",
            "\n",
            "Activations: \n",
            "[[0.92551827]\n",
            " [0.93098376]\n",
            " [0.70961192]]\n"
          ]
        }
      ]
    },
    {
      "cell_type": "markdown",
      "source": [
        "## It's time to code"
      ],
      "metadata": {
        "id": "Ohw7pmiANHce"
      }
    },
    {
      "cell_type": "code",
      "source": [
        "%%bash\n",
        "\n",
        "cat <<EOF> nn.cu\n",
        "#include \"cuda_runtime.h\" // Include the CUDA runtime library\n",
        "#include \"device_launch_parameters.h\" // Include device launch parameters for CUDA\n",
        "#include <math.h> // Include math functions\n",
        "#include <stdio.h> // Include standard input/output functions\n",
        "#include <iostream> // Include input/output stream library\n",
        "\n",
        "// CUDA kernel for linear layer and activation\n",
        "__global__ void linear_layer_and_activation(\n",
        "    float *weight_matrix, // Pointer to the weight matrix\n",
        "    float *biases, // Pointer to the biases\n",
        "    float *x_inputs, // Pointer to the input values\n",
        "    float *z_values, // Pointer to the z values (w*x + b)\n",
        "    float *activation_values, // Pointer to the activation values\n",
        "    int nr_output_neurons, // Number of output neurons\n",
        "    int nr_input_neurons) // Number of input neurons\n",
        "{\n",
        "    int id = threadIdx.x; // Get the thread ID\n",
        "\n",
        "    if (id < nr_output_neurons) { // Check if the thread ID is within the number of output neurons\n",
        "        // Compute w*x for each neuron\n",
        "        for (int neuron_nr = 0; neuron_nr < nr_input_neurons; neuron_nr++) {\n",
        "            z_values[id] += weight_matrix[(nr_input_neurons) * id + neuron_nr] * x_inputs[neuron_nr];\n",
        "        }\n",
        "\n",
        "        // Add the bias to the computed w*x value\n",
        "        z_values[id] += biases[id];\n",
        "\n",
        "        // Apply the sigmoid activation function\n",
        "        activation_values[id] = 1.0 / (1.0 + exp(-z_values[id]));\n",
        "    }\n",
        "}\n",
        "\n",
        "int main()\n",
        "{\n",
        "    const int INPUT_NEURONS = 4; // Define the number of input neurons\n",
        "    const int OUTPUT_NEURONS = 3; // Define the number of output neurons\n",
        "\n",
        "    // Initialize weights on CPU/RAM\n",
        "    const int size_w = INPUT_NEURONS * OUTPUT_NEURONS; // Calculate the size of the weight matrix\n",
        "    float host_weights[size_w] = {0.80f, 0.87f, 0.16f, 0.96f, 0.89f, 0.87f, 0.31f, 0.08f, 0.09f, 0.69f, 0.03f, 0.42f}; // Initialize the weight matrix\n",
        "\n",
        "    // Initialize biases on CPU/RAM\n",
        "    const int size_b = OUTPUT_NEURONS; // Calculate the size of the biases array\n",
        "    float host_biases[size_b] = {0.68f, 0.83f, 0.01f}; // Initialize the biases\n",
        "    float host_input[INPUT_NEURONS] = {0.75f, 0.98f, 0.74f, 0.28f}; // Initialize the input values\n",
        "\n",
        "    // Initialize activations on CPU/RAM\n",
        "    float host_activations[size_b] = {0.0f, 0.0f, 0.0f}; // Initialize the activations array to zero\n",
        "\n",
        "    // Initialize z Matrix\n",
        "    float host_z[size_b] = {0.0f, 0.0f, 0.0f}; // Initialize the z values array to zero\n",
        "\n",
        "    // Calculate the amount of memory needed so we can provide this information to cuda malloc\n",
        "    const size_t bytes_biases = size_b * sizeof(float); // Calculate the memory size for biases\n",
        "    const size_t bytes_z = size_b * sizeof(float); // Calculate the memory size for z values\n",
        "    const size_t bytes_weights = size_w * sizeof(float); // Calculate the memory size for weights\n",
        "    const size_t bytes_activations = size_b * sizeof(float); // Calculate the memory size for activations\n",
        "    const size_t bytes_inputs = INPUT_NEURONS * sizeof(float); // Calculate the memory size for inputs\n",
        "\n",
        "    // Allocate GPU device memory\n",
        "    float *d_biases, *d_weights, *d_activations, *d_z, *d_inputs; // Declare pointers for GPU memory\n",
        "    cudaMalloc(&d_biases, bytes_biases); // Allocate memory for biases on GPU\n",
        "    cudaMalloc(&d_weights, bytes_weights); // Allocate memory for weights on GPU\n",
        "    cudaMalloc(&d_activations, bytes_activations); // Allocate memory for activations on GPU\n",
        "    cudaMalloc(&d_z, bytes_z); // Allocate memory for z values on GPU\n",
        "    cudaMalloc(&d_inputs, bytes_inputs); // Allocate memory for inputs on GPU\n",
        "\n",
        "    // Copy data from CPU Memory to GPU Memory\n",
        "    cudaMemcpy(d_biases, host_biases, bytes_biases, cudaMemcpyHostToDevice); // Copy biases from host to device\n",
        "    cudaMemcpy(d_weights, host_weights, bytes_weights, cudaMemcpyHostToDevice); // Copy weights from host to device\n",
        "    cudaMemcpy(d_activations, host_activations, bytes_activations, cudaMemcpyHostToDevice); // Copy activations from host to device\n",
        "    cudaMemcpy(d_z, host_z, bytes_z, cudaMemcpyHostToDevice); // Copy z values from host to device\n",
        "    cudaMemcpy(d_inputs, host_input, bytes_inputs, cudaMemcpyHostToDevice); // Copy inputs from host to device\n",
        "\n",
        "    // Call cuda kernel\n",
        "    linear_layer_and_activation<<<1, OUTPUT_NEURONS>>>(d_weights, d_biases, d_inputs, d_z, d_activations, OUTPUT_NEURONS, INPUT_NEURONS); // Launch the CUDA kernel\n",
        "\n",
        "    // Check for any errors during kernel launch\n",
        "    cudaError_t err = cudaGetLastError(); // Get the last error from the CUDA runtime\n",
        "    if (err != cudaSuccess) { // Check if there was an error\n",
        "        std::cerr << \"CUDA Error: \" << cudaGetErrorString(err) << std::endl; // Print the error message\n",
        "    }\n",
        "\n",
        "    // Synchronize the device\n",
        "    cudaDeviceSynchronize(); // Wait for the kernel to complete\n",
        "\n",
        "    // After we calculated the activations and z values we need to copy the data from GPU Memory back to the CPU Memory\n",
        "    cudaMemcpy(host_activations, d_activations, bytes_activations, cudaMemcpyDeviceToHost); // Copy activations from device to host\n",
        "    cudaMemcpy(host_z, d_z, bytes_z, cudaMemcpyDeviceToHost); // Copy z values from device to host\n",
        "\n",
        "    // Free our memory\n",
        "    cudaFree(d_biases); // Free the device memory for biases\n",
        "    cudaFree(d_weights); // Free the device memory for weights\n",
        "    cudaFree(d_activations); // Free the device memory for activations\n",
        "    cudaFree(d_z); // Free the device memory for z values\n",
        "    cudaFree(d_inputs); // Free the device memory for inputs\n",
        "\n",
        "    // Print the z values\n",
        "    std::cout << \"Z Values: \" << std::endl;\n",
        "    for (int neuron_nr = 0; neuron_nr < OUTPUT_NEURONS; neuron_nr++) { // Loop over the output neurons\n",
        "        std::cout << host_z[neuron_nr] << std::endl; // Print each z value\n",
        "    }\n",
        "\n",
        "    // Print the activation values\n",
        "    std::cout << std::endl << \"Activations: \" << std::endl;\n",
        "    for (int neuron_nr = 0; neuron_nr < OUTPUT_NEURONS; neuron_nr++) { // Loop over the output neurons\n",
        "        std::cout << host_activations[neuron_nr] << std::endl; // Print each activation value\n",
        "    }\n",
        "\n",
        "    return 0; // Return success\n",
        "}\n",
        "\n",
        "EOF"
      ],
      "metadata": {
        "id": "6bxGMn0jSgAr"
      },
      "execution_count": null,
      "outputs": []
    },
    {
      "cell_type": "code",
      "source": [
        "!nvcc nn.cu -o nn.out\n",
        "! ./nn.out"
      ],
      "metadata": {
        "id": "FGhvTYw3NVmw",
        "colab": {
          "base_uri": "https://localhost:8080/"
        },
        "outputId": "3fa49528-2102-4d52-c643-0043680658ac"
      },
      "execution_count": null,
      "outputs": [
        {
          "output_type": "stream",
          "name": "stdout",
          "text": [
            "Z Values: \n",
            "2.5198\n",
            "2.6019\n",
            "0.8935\n",
            "\n",
            "Activations: \n",
            "0.925518\n",
            "0.930984\n",
            "0.709612\n"
          ]
        }
      ]
    }
  ]
}