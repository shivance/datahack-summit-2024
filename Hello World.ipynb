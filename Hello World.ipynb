{
  "nbformat": 4,
  "nbformat_minor": 0,
  "metadata": {
    "colab": {
      "provenance": [],
      "gpuType": "T4"
    },
    "kernelspec": {
      "name": "python3",
      "display_name": "Python 3"
    },
    "language_info": {
      "name": "python"
    },
    "accelerator": "GPU"
  },
  "cells": [
    {
      "cell_type": "markdown",
      "source": [
        "## Install nvcc jupyter plugin"
      ],
      "metadata": {
        "id": "FK0OgqQ3NCky"
      }
    },
    {
      "cell_type": "code",
      "source": [
        "!pip install git+https://github.com/andreinechaev/nvcc4jupyter.git\n",
        "%load_ext nvcc4jupyter"
      ],
      "metadata": {
        "colab": {
          "base_uri": "https://localhost:8080/"
        },
        "id": "Yog3f5JxFvou",
        "outputId": "39bfd3f7-2ff5-4969-fa80-16285d6863df"
      },
      "execution_count": 1,
      "outputs": [
        {
          "output_type": "stream",
          "name": "stdout",
          "text": [
            "Collecting git+https://github.com/andreinechaev/nvcc4jupyter.git\n",
            "  Cloning https://github.com/andreinechaev/nvcc4jupyter.git to /tmp/pip-req-build-e9h9o2y0\n",
            "  Running command git clone --filter=blob:none --quiet https://github.com/andreinechaev/nvcc4jupyter.git /tmp/pip-req-build-e9h9o2y0\n",
            "  Resolved https://github.com/andreinechaev/nvcc4jupyter.git to commit 801584cceb559adc54e828ebe9b385c5f53fe70f\n",
            "  Installing build dependencies ... \u001b[?25l\u001b[?25hdone\n",
            "  Getting requirements to build wheel ... \u001b[?25l\u001b[?25hdone\n",
            "  Preparing metadata (pyproject.toml) ... \u001b[?25l\u001b[?25hdone\n",
            "Building wheels for collected packages: nvcc4jupyter\n",
            "  Building wheel for nvcc4jupyter (pyproject.toml) ... \u001b[?25l\u001b[?25hdone\n",
            "  Created wheel for nvcc4jupyter: filename=nvcc4jupyter-1.2.1-py3-none-any.whl size=10743 sha256=3a570d3ab74e9051a615aa78d54722c78a69a0c83a1d407fccde14c37a30e96c\n",
            "  Stored in directory: /tmp/pip-ephem-wheel-cache-q3i_00ko/wheels/a8/b9/18/23f8ef71ceb0f63297dd1903aedd067e6243a68ea756d6feea\n",
            "Successfully built nvcc4jupyter\n",
            "Installing collected packages: nvcc4jupyter\n",
            "Successfully installed nvcc4jupyter-1.2.1\n",
            "Detected platform \"Colab\". Running its setup...\n",
            "Source files will be saved in \"/tmp/tmp3p8n3su1\".\n"
          ]
        }
      ]
    },
    {
      "cell_type": "markdown",
      "source": [
        "## It's time to code"
      ],
      "metadata": {
        "id": "Ohw7pmiANHce"
      }
    },
    {
      "cell_type": "code",
      "source": [
        "%%bash\n",
        "\n",
        "cat <<EOF> hello.cu\n",
        "#include <iostream>\n",
        "#include <cuda_runtime.h>\n",
        "\n",
        "using namespace std;\n",
        "\n",
        "__global__ void helloFromGPU()\n",
        "{\n",
        "  printf(\"Hello World from GPU!!!\\n\");\n",
        "}\n",
        "\n",
        "int main()\n",
        "{\n",
        "  cout<<\"Hello World from CPU!\\n\";\n",
        "\n",
        "  helloFromGPU<<<1, 1>>>();\n",
        "\n",
        "  cudaDeviceSynchronize();\n",
        "  return 0;\n",
        "}\n",
        "EOF"
      ],
      "metadata": {
        "id": "Mkx_JnL1gSrw"
      },
      "execution_count": 2,
      "outputs": []
    },
    {
      "cell_type": "code",
      "source": [
        "!cat hello.cu"
      ],
      "metadata": {
        "colab": {
          "base_uri": "https://localhost:8080/"
        },
        "id": "y3KEo4TqgeWI",
        "outputId": "500115cc-d7e1-4249-f818-b2e9857ffd00"
      },
      "execution_count": 3,
      "outputs": [
        {
          "output_type": "stream",
          "name": "stdout",
          "text": [
            "#include <iostream>\n",
            "#include <cuda_runtime.h>\n",
            "\n",
            "using namespace std;\n",
            "\n",
            "__global__ void helloFromGPU()\n",
            "{\n",
            "  printf(\"Hello World from GPU!!!\\n\");\n",
            "}\n",
            "\n",
            "int main()\n",
            "{\n",
            "  cout<<\"Hello World from CPU!\\n\";\n",
            "\n",
            "  helloFromGPU<<<1, 1>>>();\n",
            "\n",
            "  cudaDeviceSynchronize();\n",
            "  return 0;\n",
            "}\n"
          ]
        }
      ]
    },
    {
      "cell_type": "code",
      "source": [
        "!nvcc hello.cu -o hello.out\n",
        "! ./hello.out"
      ],
      "metadata": {
        "colab": {
          "base_uri": "https://localhost:8080/"
        },
        "id": "ZGlmzFrh3RgZ",
        "outputId": "08b877cf-0976-4ca7-9c3f-025c5a86115d"
      },
      "execution_count": 4,
      "outputs": [
        {
          "output_type": "stream",
          "name": "stdout",
          "text": [
            "Hello World from CPU!\n",
            "Hello World from GPU!!!\n"
          ]
        }
      ]
    }
  ]
}