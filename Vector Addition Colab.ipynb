{
  "nbformat": 4,
  "nbformat_minor": 0,
  "metadata": {
    "colab": {
      "provenance": [],
      "gpuType": "T4"
    },
    "kernelspec": {
      "name": "python3",
      "display_name": "Python 3"
    },
    "language_info": {
      "name": "python"
    },
    "accelerator": "GPU"
  },
  "cells": [
    {
      "cell_type": "markdown",
      "source": [
        "## Install nvcc jupyter plugin"
      ],
      "metadata": {
        "id": "FK0OgqQ3NCky"
      }
    },
    {
      "cell_type": "code",
      "source": [
        "!pip install git+https://github.com/andreinechaev/nvcc4jupyter.git\n",
        "%load_ext nvcc4jupyter"
      ],
      "metadata": {
        "colab": {
          "base_uri": "https://localhost:8080/"
        },
        "id": "Yog3f5JxFvou",
        "outputId": "9364fb36-5cd2-419b-8907-892ee5bb46fc"
      },
      "execution_count": null,
      "outputs": [
        {
          "output_type": "stream",
          "name": "stdout",
          "text": [
            "Collecting git+https://github.com/andreinechaev/nvcc4jupyter.git\n",
            "  Cloning https://github.com/andreinechaev/nvcc4jupyter.git to /tmp/pip-req-build-ipvvwftr\n",
            "  Running command git clone --filter=blob:none --quiet https://github.com/andreinechaev/nvcc4jupyter.git /tmp/pip-req-build-ipvvwftr\n",
            "  Resolved https://github.com/andreinechaev/nvcc4jupyter.git to commit 801584cceb559adc54e828ebe9b385c5f53fe70f\n",
            "  Installing build dependencies ... \u001b[?25l\u001b[?25hdone\n",
            "  Getting requirements to build wheel ... \u001b[?25l\u001b[?25hdone\n",
            "  Preparing metadata (pyproject.toml) ... \u001b[?25l\u001b[?25hdone\n",
            "Building wheels for collected packages: nvcc4jupyter\n",
            "  Building wheel for nvcc4jupyter (pyproject.toml) ... \u001b[?25l\u001b[?25hdone\n",
            "  Created wheel for nvcc4jupyter: filename=nvcc4jupyter-1.2.1-py3-none-any.whl size=10743 sha256=3a570d3ab74e9051a615aa78d54722c78a69a0c83a1d407fccde14c37a30e96c\n",
            "  Stored in directory: /tmp/pip-ephem-wheel-cache-unn5pch9/wheels/a8/b9/18/23f8ef71ceb0f63297dd1903aedd067e6243a68ea756d6feea\n",
            "Successfully built nvcc4jupyter\n",
            "Installing collected packages: nvcc4jupyter\n",
            "Successfully installed nvcc4jupyter-1.2.1\n",
            "Detected platform \"Colab\". Running its setup...\n",
            "Source files will be saved in \"/tmp/tmp4y7_pjbb\".\n"
          ]
        }
      ]
    },
    {
      "cell_type": "markdown",
      "source": [
        "## It's time to code"
      ],
      "metadata": {
        "id": "Ohw7pmiANHce"
      }
    },
    {
      "cell_type": "code",
      "source": [
        "%%bash\n",
        "\n",
        "cat <<EOF> vector_add.cu\n",
        "#include <stdio.h>\n",
        "#include <cuda.h>\n",
        "\n",
        "__global__ void addVectors(int *a, int *b, int *c, int n) {\n",
        "    int index = threadIdx.x + blockIdx.x * blockDim.x;\n",
        "    if (index < n) {\n",
        "        c[index] = a[index] + b[index];\n",
        "    }\n",
        "}\n",
        "\n",
        "int main() {\n",
        "    int n = 1024; // Size of the vectors\n",
        "    int size = n * sizeof(int);\n",
        "\n",
        "    // Allocate memory on host\n",
        "    int *h_a = (int *)malloc(size);\n",
        "    int *h_b = (int *)malloc(size);\n",
        "    int *h_c = (int *)malloc(size);\n",
        "\n",
        "    // Initialize vectors on host\n",
        "    for (int i = 0; i < n; i++) {\n",
        "        h_a[i] = i;\n",
        "        h_b[i] = i * 2;\n",
        "    }\n",
        "\n",
        "    // Allocate memory on device\n",
        "    int *d_a, *d_b, *d_c;\n",
        "    cudaMalloc((void **)&d_a, size);\n",
        "    cudaMalloc((void **)&d_b, size);\n",
        "    cudaMalloc((void **)&d_c, size);\n",
        "\n",
        "    // Copy vectors from host to device\n",
        "    cudaMemcpy(d_a, h_a, size, cudaMemcpyHostToDevice);\n",
        "    cudaMemcpy(d_b, h_b, size, cudaMemcpyHostToDevice);\n",
        "\n",
        "    // Launch kernel to add vectors\n",
        "    int threadsPerBlock = 256;\n",
        "    int blocksPerGrid = (n + threadsPerBlock - 1) / threadsPerBlock;\n",
        "    addVectors<<<blocksPerGrid, threadsPerBlock>>>(d_a, d_b, d_c, n);\n",
        "\n",
        "    // Copy result vector from device to host\n",
        "    cudaMemcpy(h_c, d_c, size, cudaMemcpyDeviceToHost);\n",
        "\n",
        "    // Print some elements of the result vector\n",
        "    printf(\"Vector A: \");\n",
        "    for (int i = 0; i < 10; i++) {\n",
        "        printf(\"%d \", h_a[i]);\n",
        "    }\n",
        "    printf(\"\\nVector B: \");\n",
        "\n",
        "    for (int i = 0; i < 10; i++) {\n",
        "        printf(\"%d \", h_b[i]);\n",
        "    }\n",
        "    printf(\"\\nVector C: \");\n",
        "\n",
        "    for (int i = 0; i < 10; i++) {\n",
        "        printf(\"%d \", h_c[i]);\n",
        "    }\n",
        "    printf(\"\\n\");\n",
        "\n",
        "    // Free device memory\n",
        "    cudaFree(d_a);\n",
        "    cudaFree(d_b);\n",
        "    cudaFree(d_c);\n",
        "\n",
        "    // Free host memory\n",
        "    free(h_a);\n",
        "    free(h_b);\n",
        "    free(h_c);\n",
        "\n",
        "    return 0;\n",
        "}\n",
        "EOF"
      ],
      "metadata": {
        "id": "Mkx_JnL1gSrw"
      },
      "execution_count": null,
      "outputs": []
    },
    {
      "cell_type": "code",
      "source": [
        "!cat vector_add.cu"
      ],
      "metadata": {
        "colab": {
          "base_uri": "https://localhost:8080/"
        },
        "id": "y3KEo4TqgeWI",
        "outputId": "83cd6bdf-51f5-46b7-b6b5-b40f143b31af"
      },
      "execution_count": null,
      "outputs": [
        {
          "output_type": "stream",
          "name": "stdout",
          "text": [
            "#include <stdio.h>\n",
            "#include <cuda.h>\n",
            "\n",
            "__global__ void addVectors(int *a, int *b, int *c, int n) {\n",
            "    int index = threadIdx.x + blockIdx.x * blockDim.x;\n",
            "    if (index < n) {\n",
            "        c[index] = a[index] + b[index];\n",
            "    }\n",
            "}\n",
            "\n",
            "int main() {\n",
            "    int n = 1024; // Size of the vectors\n",
            "    int size = n * sizeof(int);\n",
            "\n",
            "    // Allocate memory on host\n",
            "    int *h_a = (int *)malloc(size);\n",
            "    int *h_b = (int *)malloc(size);\n",
            "    int *h_c = (int *)malloc(size);\n",
            "\n",
            "    // Initialize vectors on host\n",
            "    for (int i = 0; i < n; i++) {\n",
            "        h_a[i] = i;\n",
            "        h_b[i] = i * 2;\n",
            "    }\n",
            "\n",
            "    // Allocate memory on device\n",
            "    int *d_a, *d_b, *d_c;\n",
            "    cudaMalloc((void **)&d_a, size);\n",
            "    cudaMalloc((void **)&d_b, size);\n",
            "    cudaMalloc((void **)&d_c, size);\n",
            "\n",
            "    // Copy vectors from host to device\n",
            "    cudaMemcpy(d_a, h_a, size, cudaMemcpyHostToDevice);\n",
            "    cudaMemcpy(d_b, h_b, size, cudaMemcpyHostToDevice);\n",
            "\n",
            "    // Launch kernel to add vectors\n",
            "    int threadsPerBlock = 256;\n",
            "    int blocksPerGrid = (n + threadsPerBlock - 1) / threadsPerBlock;\n",
            "    addVectors<<<blocksPerGrid, threadsPerBlock>>>(d_a, d_b, d_c, n);\n",
            "\n",
            "    // Copy result vector from device to host\n",
            "    cudaMemcpy(h_c, d_c, size, cudaMemcpyDeviceToHost);\n",
            "\n",
            "    // Print some elements of the result vector\n",
            "    printf(\"Vector A: \");\n",
            "    for (int i = 0; i < 10; i++) {\n",
            "        printf(\"%d \", h_a[i]);\n",
            "    }\n",
            "    printf(\"\\nVector B: \");\n",
            "\n",
            "    for (int i = 0; i < 10; i++) {\n",
            "        printf(\"%d \", h_b[i]);\n",
            "    }\n",
            "    printf(\"\\nVector C: \");\n",
            "\n",
            "    for (int i = 0; i < 10; i++) {\n",
            "        printf(\"%d \", h_c[i]);\n",
            "    }\n",
            "    printf(\"\\n\");\n",
            "\n",
            "    // Free device memory\n",
            "    cudaFree(d_a);\n",
            "    cudaFree(d_b);\n",
            "    cudaFree(d_c);\n",
            "\n",
            "    // Free host memory\n",
            "    free(h_a);\n",
            "    free(h_b);\n",
            "    free(h_c);\n",
            "\n",
            "    return 0;\n",
            "}\n"
          ]
        }
      ]
    },
    {
      "cell_type": "code",
      "source": [
        "!nvcc vector_add.cu -o vector_add.out\n",
        "! ./vector_add.out"
      ],
      "metadata": {
        "colab": {
          "base_uri": "https://localhost:8080/"
        },
        "id": "ZGlmzFrh3RgZ",
        "outputId": "76e433bf-bfe1-44f5-ca39-6979c5e86e49"
      },
      "execution_count": null,
      "outputs": [
        {
          "output_type": "stream",
          "name": "stdout",
          "text": [
            "Vector A: 0 1 2 3 4 5 6 7 8 9 \n",
            "Vector B: 0 2 4 6 8 10 12 14 16 18 \n",
            "Vector C: 0 3 6 9 12 15 18 21 24 27 \n"
          ]
        }
      ]
    },
    {
      "cell_type": "code",
      "source": [],
      "metadata": {
        "id": "xVq9R5DTac5H"
      },
      "execution_count": null,
      "outputs": []
    }
  ]
}